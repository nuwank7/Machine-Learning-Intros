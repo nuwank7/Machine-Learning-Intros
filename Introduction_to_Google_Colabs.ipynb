{
  "nbformat": 4,
  "nbformat_minor": 0,
  "metadata": {
    "colab": {
      "name": "Introduction to Google Colabs",
      "provenance": [],
      "authorship_tag": "ABX9TyPVs8LkFCPIccvdfn45Eh/6",
      "include_colab_link": true
    },
    "kernelspec": {
      "name": "python3",
      "display_name": "Python 3"
    }
  },
  "cells": [
    {
      "cell_type": "markdown",
      "metadata": {
        "id": "view-in-github",
        "colab_type": "text"
      },
      "source": [
        "<a href=\"https://colab.research.google.com/github/nuwank7/Machine-Learning-Intros/blob/master/Introduction_to_Google_Colabs.ipynb\" target=\"_parent\"><img src=\"https://colab.research.google.com/assets/colab-badge.svg\" alt=\"Open In Colab\"/></a>"
      ]
    },
    {
      "cell_type": "markdown",
      "metadata": {
        "id": "AU8CL8zWT6Ib",
        "colab_type": "text"
      },
      "source": [
        "#Introduction to Google CoLab\n",
        "\n",
        "Last Updated : 16th July 2020\n",
        "\n",
        "Dr. Nuwan Kodagoda\n",
        "\n",
        "Let's learn about what Google Colab is all about and learn a few basic python code samples to help you get started on getting you understand and build simple TensorFlow machine learning models. "
      ]
    },
    {
      "cell_type": "markdown",
      "metadata": {
        "id": "K-xyq0_im0n2",
        "colab_type": "text"
      },
      "source": [
        "#Using Google Colabs\n",
        "\n",
        "[Basic Features of Google Colab](https://colab.research.google.com/notebooks/basic_features_overview.ipynb)"
      ]
    },
    {
      "cell_type": "markdown",
      "metadata": {
        "id": "XRIY_pGYcLpR",
        "colab_type": "text"
      },
      "source": [
        "#Google Colab Basics Under the Hood\n",
        "\n",
        "Basically you are running a Ubuntu Linux Virtual Machine in the cloud.  Your Virtual Machine can be setup to execute code on a CPU, GPU or a TPU.\n",
        "\n"
      ]
    },
    {
      "cell_type": "code",
      "metadata": {
        "id": "nqeI215Fc0oj",
        "colab_type": "code",
        "colab": {}
      },
      "source": [
        "# You can use the ! mark to run commands directly in your Virtual Machine\n",
        "! uname -or\n",
        "! cat /proc/version\n",
        "! cat /etc/os-release"
      ],
      "execution_count": null,
      "outputs": []
    },
    {
      "cell_type": "code",
      "metadata": {
        "id": "FEriS6_1dTbm",
        "colab_type": "code",
        "colab": {}
      },
      "source": [
        "# lets look around our virtual machine"
      ],
      "execution_count": null,
      "outputs": []
    },
    {
      "cell_type": "code",
      "metadata": {
        "id": "7IDJfJaddqBi",
        "colab_type": "code",
        "colab": {}
      },
      "source": [
        "!ls # current folder\n",
        "!ls /  #root folder"
      ],
      "execution_count": null,
      "outputs": []
    },
    {
      "cell_type": "code",
      "metadata": {
        "id": "T05udPMaeCKS",
        "colab_type": "code",
        "colab": {}
      },
      "source": [
        "! curl https://codeload.github.com/gist/d5a3d53db2286cd5726d8cd5bd184c6b/zip/acb964e7b6887c252b960aa1f6faf0accaeac7d1 --output helloc.zip\n",
        "! unzip -j -o helloc.zip\n",
        "! cat hello.c"
      ],
      "execution_count": null,
      "outputs": []
    },
    {
      "cell_type": "code",
      "metadata": {
        "id": "uhvvqGo6i6cO",
        "colab_type": "code",
        "colab": {}
      },
      "source": [
        "!g++ hello.c -otest\n",
        "!./test"
      ],
      "execution_count": null,
      "outputs": []
    },
    {
      "cell_type": "markdown",
      "metadata": {
        "id": "VsSn58q-yHc8",
        "colab_type": "text"
      },
      "source": [
        "##Accessing Google Drive\n"
      ]
    },
    {
      "cell_type": "markdown",
      "metadata": {
        "id": "ldGkHMlbVlDP",
        "colab_type": "text"
      },
      "source": [
        "#Python Basics\n"
      ]
    },
    {
      "cell_type": "markdown",
      "metadata": {
        "id": "HvltWL1NVufF",
        "colab_type": "text"
      },
      "source": [
        "## Calculations"
      ]
    },
    {
      "cell_type": "code",
      "metadata": {
        "id": "LSwvQRPsTt0g",
        "colab_type": "code",
        "colab": {}
      },
      "source": [
        "x = 15\n",
        "y = 2\n",
        "z1 = x + y\n",
        "z2 = x - y\n",
        "z3 = x * y\n",
        "z4 = x / y\n",
        "z5 = x // y # Flow Division\n",
        "z6 = x % y # Modulus\n",
        "z7 = x ** y # Exponentation\n",
        "print(z1)\n",
        "print(z2)\n",
        "print(z3)\n",
        "print(z4)\n",
        "print(z5)\n",
        "print(z6)\n",
        "print(z7)"
      ],
      "execution_count": null,
      "outputs": []
    },
    {
      "cell_type": "markdown",
      "metadata": {
        "id": "mNcbYFCHWIyQ",
        "colab_type": "text"
      },
      "source": [
        "## Using NumPy Module\n",
        "\n",
        "NumPy, which stands for Numerical Python, is a library consisting of multidimensional array objects and a collection of routines for processing those arrays. Using NumPy, mathematical and logical operations on arrays can be performed.\n",
        "The most important object defined in NumPy is an N-dimensional array type called ndarray. It describes the collection of items of the same type. Items in the collection can be accessed using a zero-based index.\n",
        "Every item in an ndarray takes the same size of block in the memory. Each element in ndarray is an object of data-type object (called dtype).\n",
        "(Ref - TutorialPoint)"
      ]
    },
    {
      "cell_type": "code",
      "metadata": {
        "id": "Ox1FHBYIWWCn",
        "colab_type": "code",
        "colab": {}
      },
      "source": [
        "#importing NumPy\n",
        "import numpy as np # We are giving an alias to numpy as np, this is a general standard\n",
        "a = np.array([1,2,3,4,5]) # defines a numpy array, here data have to be the same type\n",
        "print(a)"
      ],
      "execution_count": null,
      "outputs": []
    },
    {
      "cell_type": "code",
      "metadata": {
        "id": "ixKhAghXWfcT",
        "colab_type": "code",
        "colab": {}
      },
      "source": [
        "a = np.array([[[1,2,3],[4,5,6]],\n",
        "               [[7,8,9],[10,11,12]],\n",
        "               [[13,14,15], [16,17,18]],\n",
        "               [[17,18,19],[20,21,22]]])\n",
        "print(a.shape) # Dimensions of the array\n",
        "# (4,2,3) - 3D array as dimensions 4, 2, 3"
      ],
      "execution_count": null,
      "outputs": []
    },
    {
      "cell_type": "code",
      "metadata": {
        "id": "IOlAv-CJW-gP",
        "colab_type": "code",
        "colab": {}
      },
      "source": [
        "%%html\n",
        "Run this code to find an explaination about the arrays given above </p>\n",
        "In the above code see the dimensions 4, 2, 3 using at the following figures</p>\n",
        "Dimension 1 - 4 elements\n",
        "<img src='https://i.postimg.cc/VvC82CkV/Screenshot-2020-04-11-at-11-48-53.png' width=250 />\n",
        "</p>Dimension 2 - 2 elements\n",
        "<img src='https://i.postimg.cc/RF8mPR4t/Screenshot-2020-04-11-at-11-49-15.png' width=250 />\n",
        "</p>Dimension 3 - 3 elements\n",
        "<img src='https://i.postimg.cc/Y0MK0qNX/Screenshot-2020-04-11-at-11-49-32.png' width=250 />"
      ],
      "execution_count": null,
      "outputs": []
    },
    {
      "cell_type": "code",
      "metadata": {
        "id": "59X4L2uqXFPZ",
        "colab_type": "code",
        "colab": {}
      },
      "source": [
        "print(a[0]) # First element\n",
        "print(a[1]) # Second element\n",
        "print(a[0][0]) # First Dimension, 1st element\n",
        "print(a[0][1]) # First Dimension, 2nd element\n",
        "print(a[0][0][0]) # First Dimension, 1st element, 1st value\n",
        "print(a[0][0][1]) # First Dimension, 1st element, 2nd value\n",
        "print(a[0][0][2]) # First Dimension, 1st element, 3rd value"
      ],
      "execution_count": null,
      "outputs": []
    },
    {
      "cell_type": "markdown",
      "metadata": {
        "id": "Fm1OwzYIXYDn",
        "colab_type": "text"
      },
      "source": [
        "## Using Matplotlib\n",
        "Matplotlib is one of the most popular Python packages used for data visualization. It is a cross-platform library for making 2D plots from data in arrays.\n",
        "(Ref - TutorialPoint)"
      ]
    },
    {
      "cell_type": "markdown",
      "metadata": {
        "id": "el8L4FCJXpvK",
        "colab_type": "text"
      },
      "source": [
        "###matplotlib.pyplot\n",
        "is a collection of command style functions that make Matplotlib work like MATLAB. Each Pyplot function makes some change to a figure. For example, a function creates a figure, a plotting area in a figure, plots some lines in a plotting area, decorates the plot with labels, etc.\n",
        "\n",
        "(See [Reference to different types of Plots](https://www.tutorialspoint.com/matplotlib/matplotlib_pyplot_api.htm))\n",
        "\n",
        "(Ref - TutorialPoint)"
      ]
    },
    {
      "cell_type": "code",
      "metadata": {
        "id": "ePXDdmvDYD-l",
        "colab_type": "code",
        "colab": {}
      },
      "source": [
        "import matplotlib.pyplot as plt # this is the default declaration\n",
        "# we are importing from the matplotlib package, pyplot is a class and\n",
        "# we are aliasing it as plt\n",
        "\n",
        "import numpy as np # We need numpy as well\n",
        "import math #needed for definition of pi\n",
        "x = np.arange(0, math.pi*2, 0.05) # generate an array from 0 to math.pi*2 with \n",
        "                                  # an interval of 0.05\n",
        "y = np.sin(x)  # built in trignometry function in numpy\n",
        "plt.plot(x,y)  # an x, y plot\n",
        "plt.xlabel(\"angle\") \n",
        "plt.ylabel(\"sine\")\n",
        "plt.title('sine wave')\n",
        "plt.show() # the plot is shown only when you give the show command"
      ],
      "execution_count": null,
      "outputs": []
    },
    {
      "cell_type": "markdown",
      "metadata": {
        "id": "GK5ZA6bcYFkL",
        "colab_type": "text"
      },
      "source": [
        "###SubPlots\n",
        "\n",
        "Matplotlib’s pyplot API has a convenience function called subplots() which acts as a utility wrapper and helps in creating common layouts of subplots, including the enclosing figure object, in a single call.\n",
        "\n",
        "Plt.subplots(nrows, ncols)\n",
        "The two integer arguments to this function specify the number of rows and columns of the subplot grid. The function returns a figure object and a tuple containing axes objects equal to nrows*ncols. Each axes object is accessible by its index. Here we create a subplot of 2 rows by 2 columns and display 4 different plots in each subplot.\n",
        "\n",
        "(Ref - TutorialPoint)"
      ]
    },
    {
      "cell_type": "code",
      "metadata": {
        "id": "FNx3gVhMYN57",
        "colab_type": "code",
        "colab": {}
      },
      "source": [
        "import matplotlib.pyplot as plt\n",
        "fig,axes =  plt.subplots(2,3) # subplots(rows, columns), this function returns\n",
        "                              # two values, fig and axes, we are interested\n",
        "                              # in axes\n",
        "\n",
        "import numpy as np\n",
        "x = np.arange(1,5,0.2)        # an array with values 1, to 5 with 0.2 steps\n",
        "axes[0][0].plot(x,x*x)        # first plot function at (0,0)\n",
        "axes[0][0].set_title('square')\n",
        "axes[0][1].plot(x,np.sqrt(x))  # plot at (0,1)\n",
        "axes[0][1].set_title('square root')\n",
        "axes[0][2].plot(x,np.exp(x))  # plot at (0,2)\n",
        "axes[0][2].set_title('exp')\n",
        "axes[1][0].plot(x,np.log10(x)) # plot at (1,0)\n",
        "axes[1][0].set_title('log')\n",
        "axes[1][1].plot(x, 2*x + 5)    # plot at (1,1)\n",
        "axes[1][1].set_title(\"Linear\")\n",
        "axes[1][2].plot(x, 2*x**2 - 11*x + 10) # plot at (1,1)\n",
        "axes[1][2].set_title(\"Polynomial\")\n",
        "plt.tight_layout()   # spaces out the plots \n",
        "\n",
        "plt.show() # display all the plots"
      ],
      "execution_count": null,
      "outputs": []
    },
    {
      "cell_type": "markdown",
      "metadata": {
        "id": "ZzV3GgqSYpRB",
        "colab_type": "text"
      },
      "source": [
        "# Using Images and Image manipulation\n",
        "\n",
        "We can use MatPlotLib with numpy to display images.\n",
        "We will use the linux command curl to download some images. We can run\n",
        "any linux command in Google CoLab by using ! mark"
      ]
    },
    {
      "cell_type": "code",
      "metadata": {
        "id": "fBwOv01-YtcG",
        "colab_type": "code",
        "colab": {}
      },
      "source": [
        "# Please run this to download the files used\n",
        "\n",
        "! curl https://i.postimg.cc/rFLs6ysm/sliit.png --output sliit.png\n",
        "! curl https://i.postimg.cc/GtLfYszt/butterfly.jpg --output butterfly.jpg\n",
        "! curl https://i.postimg.cc/7LqSqML5/obama.jpg --output obama.jpg\n"
      ],
      "execution_count": null,
      "outputs": []
    },
    {
      "cell_type": "markdown",
      "metadata": {
        "id": "WkEFgFWnYzhD",
        "colab_type": "text"
      },
      "source": [
        "##Displaying an Image"
      ]
    },
    {
      "cell_type": "code",
      "metadata": {
        "id": "AnjznWCSY3aQ",
        "colab_type": "code",
        "colab": {}
      },
      "source": [
        "import matplotlib.pyplot as plt\n",
        "import matplotlib.image as img # take image class of matplotlib as img\n",
        "import numpy as np\n",
        "image = img.imread('sliit.png') # please upload this file to your folder\n",
        "plt.imshow(image) # display an image using imshow() method of the pyplot class"
      ],
      "execution_count": null,
      "outputs": []
    },
    {
      "cell_type": "code",
      "metadata": {
        "id": "li7Kic4aZp6J",
        "colab_type": "code",
        "colab": {}
      },
      "source": [
        "print(image) # we can see a partial list, its really a 3D Numpy Array"
      ],
      "execution_count": null,
      "outputs": []
    },
    {
      "cell_type": "markdown",
      "metadata": {
        "id": "GvEG3qOPaAAL",
        "colab_type": "text"
      },
      "source": [
        "### Georgie Tech Face Database - Looking at a set of images\n",
        "When you work with machine learning you work with a lot of data, this database is over 100 MB large and has seperate folders containing 15 images of each\n",
        "person"
      ]
    },
    {
      "cell_type": "code",
      "metadata": {
        "id": "OcRJ7CCBaHo8",
        "colab_type": "code",
        "colab": {}
      },
      "source": [
        "# http://www.anefian.com/research/face_reco.htm\n",
        "# Lets download the Georgie Tech Face Database and unzip it\n",
        "\n",
        "!curl http://www.anefian.com/research/gt_db.zip --output faces.zip\n",
        "!unzip -q -o faces.zip "
      ],
      "execution_count": null,
      "outputs": []
    },
    {
      "cell_type": "code",
      "metadata": {
        "id": "Sj0o49MWaqMR",
        "colab_type": "code",
        "colab": {}
      },
      "source": [
        "# Let's try to see images in one of the folders from the Georgia dataset\n",
        "import matplotlib.pyplot as plt\n",
        "import matplotlib.image as img # take image class of matplotlib as img\n",
        "import numpy as np\n",
        "fig,axes =  plt.subplots(3,5, figsize = (12,5))\n",
        "sample = \"s01\" # change this to get a different folder\n",
        "images = np.empty([15, 480, 640,3], dtype=float)\n",
        "for r in range(15):\n",
        "  if (r+1) < 10:\n",
        "     zero = \"0\" # to check if we need to have a trailing zero\n",
        "  else:\n",
        "     zero = \"\"\n",
        "  st = 'gt_db/'+sample+'/'+zero+str(r+1)+'.jpg' # generate file name\n",
        "  print(st) # display loaded file as debug\n",
        "  image = img.imread(st) # load image file\n",
        "  images[r] = image\n",
        "\n",
        "  y = int(r / 5) # calculate position in plot\n",
        "  x = r % 5 # calculate position in plot\n",
        "  axes[y][x].imshow(image) # set the image\n",
        "\n",
        "plt.tight_layout()   # spaces out the plots \n",
        "plt.show() # display all the plots"
      ],
      "execution_count": null,
      "outputs": []
    },
    {
      "cell_type": "markdown",
      "metadata": {
        "id": "lAU3ap9fbFMz",
        "colab_type": "text"
      },
      "source": [
        "#Creating your own modules and using it"
      ]
    },
    {
      "cell_type": "code",
      "metadata": {
        "id": "V660W0jRbLOd",
        "colab_type": "code",
        "colab": {}
      },
      "source": [
        "# download a module called test\n",
        "! curl https://codeload.github.com/gist/d9a36314c4026b3c63191f574a3c1850/zip/master --output code.zip\n",
        "! unzip -j -o code.zip # unzip the file\n",
        "! cat test.py # display the content of the module"
      ],
      "execution_count": null,
      "outputs": []
    },
    {
      "cell_type": "code",
      "metadata": {
        "id": "kMTgiPYNbf_n",
        "colab_type": "code",
        "colab": {}
      },
      "source": [
        "#importing a module\n",
        "import test as t #import the module test as t\n",
        "t.hello()\n",
        "a, b, c, d = t.calc(40,2)\n",
        "print(a)\n",
        "print(b)\n",
        "print(c)\n",
        "print(d)"
      ],
      "execution_count": null,
      "outputs": []
    },
    {
      "cell_type": "markdown",
      "metadata": {
        "id": "RzoMdKtZbsv5",
        "colab_type": "text"
      },
      "source": [
        ""
      ]
    },
    {
      "cell_type": "code",
      "metadata": {
        "id": "5E0Jj6rbbiYA",
        "colab_type": "code",
        "colab": {}
      },
      "source": [
        "#importing a specific function and giving it an alias\n",
        "from test import hello as greet\n",
        "greet()"
      ],
      "execution_count": null,
      "outputs": []
    },
    {
      "cell_type": "markdown",
      "metadata": {
        "id": "3RogmTMKbxpa",
        "colab_type": "text"
      },
      "source": [
        "In Python you do not have private properties. We use self as the first parameter in calling constructors and methods.\n",
        "```\n",
        "class Person:\n",
        "  def __init__(self, name, age):\n",
        "    self.name = name\n",
        "    self.age = age\n",
        " \n",
        "  def myfunc(self):\n",
        "    print(\"Hello my name is \" + self.name)```\n",
        " "
      ]
    },
    {
      "cell_type": "code",
      "metadata": {
        "id": "_fDSnweOb7Mc",
        "colab_type": "code",
        "colab": {}
      },
      "source": [
        "#import the Person Class which is in Person.py\n",
        "\n",
        "! curl https://codeload.github.com/gist/fd3ab8dec3cdededb2201205ce21b0cb/zip/4a8bfc1280ef48ff4b6dae475cd3e67f397531c6 --output code2.zip\n",
        "! unzip -j -o code2.zip\n",
        "! cat Person.py"
      ],
      "execution_count": null,
      "outputs": []
    },
    {
      "cell_type": "code",
      "metadata": {
        "id": "kUg4n4QRb-AU",
        "colab_type": "code",
        "colab": {}
      },
      "source": [
        "#importing a class\n",
        "from Person import Person \n",
        "p1 = Person(\"Nimal\", 23)\n",
        "p1.myfunc()"
      ],
      "execution_count": null,
      "outputs": []
    },
    {
      "cell_type": "code",
      "metadata": {
        "id": "_aSNrz_PcAVW",
        "colab_type": "code",
        "colab": {}
      },
      "source": [
        "#importing a class\n",
        "from Person import Person as P\n",
        "p1 = P(\"Nimal\", 23)\n",
        "p1.myfunc()"
      ],
      "execution_count": null,
      "outputs": []
    },
    {
      "cell_type": "markdown",
      "metadata": {
        "id": "SW--NXyXy4EI",
        "colab_type": "text"
      },
      "source": [
        "#Introduction to Tensorflow\n",
        "\n",
        "[Tensorflow Website](https://www.tensorflow.org)\n",
        "\n",
        "[Your First Neural Network - Basic classification: Classify images of clothing](https://colab.research.google.com/github/tensorflow/docs/blob/master/site/en/tutorials/keras/classification.ipynb)"
      ]
    },
    {
      "cell_type": "markdown",
      "metadata": {
        "id": "h8xNP0ef2Obi",
        "colab_type": "text"
      },
      "source": [
        "#A few Tips in figuring out Tensorflow Code\n",
        "\n",
        "\n",
        "\n",
        "*   Go through the Tensorflow Library and find out if the command that you are using is a class, or a method\n",
        "*   There are many ways to do the same thing, thats why different code samples look so different\n",
        "\n",
        "a) Using a constructor call\n",
        "\n",
        "\n",
        "\n",
        "```\n",
        "from keras.models import Sequential\n",
        "from keras.layers import Dense, Activation\n",
        " \n",
        "model = Sequential([\n",
        "    Dense(32, input_shape=(784,)),\n",
        "    Activation('relu'),\n",
        "    Dense(10),\n",
        "    Activation('softmax'),\n",
        "])\n",
        "```\n",
        "\n",
        "b) Using the add method in Model\n",
        "\n",
        "```\n",
        "from keras.layers import Input, Dense\n",
        "from keras.models import Model\n",
        "\n",
        "model = Sequential()\n",
        "# Dense(64) is a fully-connected layer with 64 hidden units.\n",
        "# in the first layer, you must specify the expected input data shape:\n",
        "# here, 20-dimensional vectors.\n",
        "model.add(Dense(64, activation='relu', input_dim=20))\n",
        "model.add(Dropout(0.5))\n",
        "model.add(Dense(64, activation='relu'))\n",
        "model.add(Dropout(0.5))\n",
        "model.add(Dense(10, activation='softmax'))\n",
        "```\n",
        "\n",
        "c) Using Functional API\n",
        "\n",
        "```\n",
        "from keras.layers import Input, Dense\n",
        "from keras.models import Model\n",
        "\n",
        "# This returns a tensor\n",
        "inputs = Input(shape=(784,))\n",
        "# a layer instance is callable on a tensor, and returns a tensor\n",
        "output_1 = Dense(64, activation='relu')(inputs)\n",
        "output_2 = Dense(64, activation='relu')(output_1)\n",
        "predictions = Dense(10, activation='softmax')(output_2)\n",
        "```\n",
        "Some Links \n",
        "\n",
        "[Tensor Flow Sequential Model](https://www.tensorflow.org/guide/keras/sequential_model)\n",
        "\n",
        "[Tensor Flow Functional Model](https://www.tensorflow.org/guide/keras/sequential_model)\n",
        "\n",
        "\n",
        "\n",
        "\n",
        "\n",
        "\n"
      ]
    },
    {
      "cell_type": "markdown",
      "metadata": {
        "id": "70OYP8DSx3KN",
        "colab_type": "text"
      },
      "source": [
        "#Additional Links\n",
        "\n",
        "[External data: Local Files, Drive, Sheets, and Cloud Storage](https://colab.research.google.com/notebooks/io.ipynb)"
      ]
    }
  ]
}